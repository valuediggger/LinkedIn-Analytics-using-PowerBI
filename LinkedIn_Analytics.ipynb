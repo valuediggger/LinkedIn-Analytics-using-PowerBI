{
  "nbformat": 4,
  "nbformat_minor": 0,
  "metadata": {
    "colab": {
      "name": "LinkedIn Analytics.ipynb",
      "provenance": []
    },
    "kernelspec": {
      "name": "python3",
      "display_name": "Python 3"
    },
    "language_info": {
      "name": "python"
    }
  },
  "cells": [
    {
      "cell_type": "code",
      "metadata": {
        "id": "7A-M8Cuc1rPN"
      },
      "source": [
        "import numpy as np\n",
        "import pandas as pd"
      ],
      "execution_count": 133,
      "outputs": []
    },
    {
      "cell_type": "code",
      "metadata": {
        "id": "zeM3a7UK11KJ"
      },
      "source": [
        "df = pd.read_csv('Connections.csv')"
      ],
      "execution_count": 134,
      "outputs": []
    },
    {
      "cell_type": "code",
      "metadata": {
        "colab": {
          "base_uri": "https://localhost:8080/",
          "height": 171
        },
        "id": "5T4bweJb1-QH",
        "outputId": "802a03c5-92c8-4a3d-b3d2-0835d2fa1ec5"
      },
      "source": [
        "df.head(4)"
      ],
      "execution_count": 135,
      "outputs": [
        {
          "output_type": "execute_result",
          "data": {
            "text/html": [
              "<div>\n",
              "<style scoped>\n",
              "    .dataframe tbody tr th:only-of-type {\n",
              "        vertical-align: middle;\n",
              "    }\n",
              "\n",
              "    .dataframe tbody tr th {\n",
              "        vertical-align: top;\n",
              "    }\n",
              "\n",
              "    .dataframe thead th {\n",
              "        text-align: right;\n",
              "    }\n",
              "</style>\n",
              "<table border=\"1\" class=\"dataframe\">\n",
              "  <thead>\n",
              "    <tr style=\"text-align: right;\">\n",
              "      <th></th>\n",
              "      <th>First Name</th>\n",
              "      <th>Last Name</th>\n",
              "      <th>Email Address</th>\n",
              "      <th>Company</th>\n",
              "      <th>Position</th>\n",
              "      <th>Connected On</th>\n",
              "    </tr>\n",
              "  </thead>\n",
              "  <tbody>\n",
              "    <tr>\n",
              "      <th>0</th>\n",
              "      <td>Bhuveneshwari</td>\n",
              "      <td>Rathore</td>\n",
              "      <td>NaN</td>\n",
              "      <td>Leading Pharma MNC</td>\n",
              "      <td>Human Resources Business Partner</td>\n",
              "      <td>2-Sep-21</td>\n",
              "    </tr>\n",
              "    <tr>\n",
              "      <th>1</th>\n",
              "      <td>Francesco</td>\n",
              "      <td>Bigonzetti</td>\n",
              "      <td>NaN</td>\n",
              "      <td>Boston Consulting Group (BCG)</td>\n",
              "      <td>Analyst - GAMMA</td>\n",
              "      <td>19-Aug-21</td>\n",
              "    </tr>\n",
              "    <tr>\n",
              "      <th>2</th>\n",
              "      <td>Karamjit</td>\n",
              "      <td>Singh</td>\n",
              "      <td>NaN</td>\n",
              "      <td>Mastercard</td>\n",
              "      <td>Director of Artificial Intelligence</td>\n",
              "      <td>15-Aug-21</td>\n",
              "    </tr>\n",
              "    <tr>\n",
              "      <th>3</th>\n",
              "      <td>Atul</td>\n",
              "      <td>Joshi</td>\n",
              "      <td>NaN</td>\n",
              "      <td>KPMG Global Services (KGS)</td>\n",
              "      <td>Assistant Manager</td>\n",
              "      <td>13-Aug-21</td>\n",
              "    </tr>\n",
              "  </tbody>\n",
              "</table>\n",
              "</div>"
            ],
            "text/plain": [
              "      First Name   Last Name  ...                             Position Connected On\n",
              "0  Bhuveneshwari     Rathore  ...     Human Resources Business Partner     2-Sep-21\n",
              "1      Francesco  Bigonzetti  ...                      Analyst - GAMMA    19-Aug-21\n",
              "2       Karamjit       Singh  ...  Director of Artificial Intelligence    15-Aug-21\n",
              "3           Atul       Joshi  ...                    Assistant Manager    13-Aug-21\n",
              "\n",
              "[4 rows x 6 columns]"
            ]
          },
          "metadata": {},
          "execution_count": 135
        }
      ]
    },
    {
      "cell_type": "code",
      "metadata": {
        "id": "lDBqRAKY2PV3"
      },
      "source": [
        "df1 = df.drop(['Email Address'],axis=1)"
      ],
      "execution_count": 136,
      "outputs": []
    },
    {
      "cell_type": "code",
      "metadata": {
        "colab": {
          "base_uri": "https://localhost:8080/",
          "height": 141
        },
        "id": "K8vjY4Iu24l3",
        "outputId": "a56f4c33-2d92-4416-8d91-0e2e9a54059d"
      },
      "source": [
        "df1.head(3)"
      ],
      "execution_count": 137,
      "outputs": [
        {
          "output_type": "execute_result",
          "data": {
            "text/html": [
              "<div>\n",
              "<style scoped>\n",
              "    .dataframe tbody tr th:only-of-type {\n",
              "        vertical-align: middle;\n",
              "    }\n",
              "\n",
              "    .dataframe tbody tr th {\n",
              "        vertical-align: top;\n",
              "    }\n",
              "\n",
              "    .dataframe thead th {\n",
              "        text-align: right;\n",
              "    }\n",
              "</style>\n",
              "<table border=\"1\" class=\"dataframe\">\n",
              "  <thead>\n",
              "    <tr style=\"text-align: right;\">\n",
              "      <th></th>\n",
              "      <th>First Name</th>\n",
              "      <th>Last Name</th>\n",
              "      <th>Company</th>\n",
              "      <th>Position</th>\n",
              "      <th>Connected On</th>\n",
              "    </tr>\n",
              "  </thead>\n",
              "  <tbody>\n",
              "    <tr>\n",
              "      <th>0</th>\n",
              "      <td>Bhuveneshwari</td>\n",
              "      <td>Rathore</td>\n",
              "      <td>Leading Pharma MNC</td>\n",
              "      <td>Human Resources Business Partner</td>\n",
              "      <td>2-Sep-21</td>\n",
              "    </tr>\n",
              "    <tr>\n",
              "      <th>1</th>\n",
              "      <td>Francesco</td>\n",
              "      <td>Bigonzetti</td>\n",
              "      <td>Boston Consulting Group (BCG)</td>\n",
              "      <td>Analyst - GAMMA</td>\n",
              "      <td>19-Aug-21</td>\n",
              "    </tr>\n",
              "    <tr>\n",
              "      <th>2</th>\n",
              "      <td>Karamjit</td>\n",
              "      <td>Singh</td>\n",
              "      <td>Mastercard</td>\n",
              "      <td>Director of Artificial Intelligence</td>\n",
              "      <td>15-Aug-21</td>\n",
              "    </tr>\n",
              "  </tbody>\n",
              "</table>\n",
              "</div>"
            ],
            "text/plain": [
              "      First Name   Last Name  ...                             Position Connected On\n",
              "0  Bhuveneshwari     Rathore  ...     Human Resources Business Partner     2-Sep-21\n",
              "1      Francesco  Bigonzetti  ...                      Analyst - GAMMA    19-Aug-21\n",
              "2       Karamjit       Singh  ...  Director of Artificial Intelligence    15-Aug-21\n",
              "\n",
              "[3 rows x 5 columns]"
            ]
          },
          "metadata": {},
          "execution_count": 137
        }
      ]
    },
    {
      "cell_type": "code",
      "metadata": {
        "colab": {
          "base_uri": "https://localhost:8080/"
        },
        "id": "BHjl7gb33N8W",
        "outputId": "4d21baea-6831-43ae-cca2-017cd24df7be"
      },
      "source": [
        "df['Company'].value_counts()"
      ],
      "execution_count": 138,
      "outputs": [
        {
          "output_type": "execute_result",
          "data": {
            "text/plain": [
              "EY                                                           59\n",
              "Boston Consulting Group (BCG)                                57\n",
              "Deloitte India (Offices of the US)                           16\n",
              "Infosys                                                      14\n",
              "ZS                                                           13\n",
              "                                                             ..\n",
              "Placement Cell, Sri Guru Gobind Singh College of Commerce     1\n",
              "PeopleKapital Consulting Pvt Ltd                              1\n",
              "Orient Electric                                               1\n",
              "WNS                                                           1\n",
              "IntelliSurvey                                                 1\n",
              "Name: Company, Length: 781, dtype: int64"
            ]
          },
          "metadata": {},
          "execution_count": 138
        }
      ]
    },
    {
      "cell_type": "code",
      "metadata": {
        "colab": {
          "base_uri": "https://localhost:8080/"
        },
        "id": "o9ic97BR3W8g",
        "outputId": "92b71d7a-6e86-460b-b8e7-2eef5ba924ae"
      },
      "source": [
        "df['Position'].value_counts()"
      ],
      "execution_count": 139,
      "outputs": [
        {
          "output_type": "execute_result",
          "data": {
            "text/plain": [
              "Assistant Manager                                        34\n",
              "Senior Analyst                                           31\n",
              "Manager                                                  19\n",
              "Associate                                                19\n",
              "Analyst                                                  18\n",
              "                                                         ..\n",
              "Software cum Control Engineer                             1\n",
              "Sales and Business development Intern                     1\n",
              "Strategy Chief Manager - Corporate & Overseas Banking     1\n",
              "Operations Executive                                      1\n",
              "Promoter                                                  1\n",
              "Name: Position, Length: 826, dtype: int64"
            ]
          },
          "metadata": {},
          "execution_count": 139
        }
      ]
    },
    {
      "cell_type": "code",
      "metadata": {
        "id": "gWC_Z2344jR4"
      },
      "source": [
        "import datetime"
      ],
      "execution_count": 140,
      "outputs": []
    },
    {
      "cell_type": "code",
      "metadata": {
        "colab": {
          "base_uri": "https://localhost:8080/"
        },
        "id": "9nmA5H4zAU4j",
        "outputId": "a78e8370-2c30-480a-ad7e-c3996331b376"
      },
      "source": [
        "datetime.datetime.today()"
      ],
      "execution_count": 141,
      "outputs": [
        {
          "output_type": "execute_result",
          "data": {
            "text/plain": [
              "datetime.datetime(2021, 9, 22, 7, 4, 2, 533897)"
            ]
          },
          "metadata": {},
          "execution_count": 141
        }
      ]
    },
    {
      "cell_type": "code",
      "metadata": {
        "colab": {
          "base_uri": "https://localhost:8080/"
        },
        "id": "Z9L4RbTTAfVI",
        "outputId": "8696583c-7aa7-4305-842f-93768e6bd045"
      },
      "source": [
        "100 * (df1['Company'].isna().sum()/len(df1['First Name']))"
      ],
      "execution_count": 142,
      "outputs": [
        {
          "output_type": "execute_result",
          "data": {
            "text/plain": [
              "4.207119741100324"
            ]
          },
          "metadata": {},
          "execution_count": 142
        }
      ]
    },
    {
      "cell_type": "code",
      "metadata": {
        "colab": {
          "base_uri": "https://localhost:8080/"
        },
        "id": "KZW1tFYvDAva",
        "outputId": "d5e905db-5ad3-4dc0-b7ee-03df12acdaa2"
      },
      "source": [
        "100 * (df1['Position'].isna().sum()/len(df1['First Name']))"
      ],
      "execution_count": 143,
      "outputs": [
        {
          "output_type": "execute_result",
          "data": {
            "text/plain": [
              "4.0453074433656955"
            ]
          },
          "metadata": {},
          "execution_count": 143
        }
      ]
    },
    {
      "cell_type": "code",
      "metadata": {
        "id": "GXzhVhG2Ap1V"
      },
      "source": [
        "df2 = df1.dropna()"
      ],
      "execution_count": 144,
      "outputs": []
    },
    {
      "cell_type": "code",
      "metadata": {
        "colab": {
          "base_uri": "https://localhost:8080/",
          "height": 202
        },
        "id": "mWrr97eqEeH0",
        "outputId": "65a9fd65-16c7-442c-cec5-5a83e589f82f"
      },
      "source": [
        "df2.head()"
      ],
      "execution_count": 145,
      "outputs": [
        {
          "output_type": "execute_result",
          "data": {
            "text/html": [
              "<div>\n",
              "<style scoped>\n",
              "    .dataframe tbody tr th:only-of-type {\n",
              "        vertical-align: middle;\n",
              "    }\n",
              "\n",
              "    .dataframe tbody tr th {\n",
              "        vertical-align: top;\n",
              "    }\n",
              "\n",
              "    .dataframe thead th {\n",
              "        text-align: right;\n",
              "    }\n",
              "</style>\n",
              "<table border=\"1\" class=\"dataframe\">\n",
              "  <thead>\n",
              "    <tr style=\"text-align: right;\">\n",
              "      <th></th>\n",
              "      <th>First Name</th>\n",
              "      <th>Last Name</th>\n",
              "      <th>Company</th>\n",
              "      <th>Position</th>\n",
              "      <th>Connected On</th>\n",
              "    </tr>\n",
              "  </thead>\n",
              "  <tbody>\n",
              "    <tr>\n",
              "      <th>0</th>\n",
              "      <td>Bhuveneshwari</td>\n",
              "      <td>Rathore</td>\n",
              "      <td>Leading Pharma MNC</td>\n",
              "      <td>Human Resources Business Partner</td>\n",
              "      <td>2-Sep-21</td>\n",
              "    </tr>\n",
              "    <tr>\n",
              "      <th>1</th>\n",
              "      <td>Francesco</td>\n",
              "      <td>Bigonzetti</td>\n",
              "      <td>Boston Consulting Group (BCG)</td>\n",
              "      <td>Analyst - GAMMA</td>\n",
              "      <td>19-Aug-21</td>\n",
              "    </tr>\n",
              "    <tr>\n",
              "      <th>2</th>\n",
              "      <td>Karamjit</td>\n",
              "      <td>Singh</td>\n",
              "      <td>Mastercard</td>\n",
              "      <td>Director of Artificial Intelligence</td>\n",
              "      <td>15-Aug-21</td>\n",
              "    </tr>\n",
              "    <tr>\n",
              "      <th>3</th>\n",
              "      <td>Atul</td>\n",
              "      <td>Joshi</td>\n",
              "      <td>KPMG Global Services (KGS)</td>\n",
              "      <td>Assistant Manager</td>\n",
              "      <td>13-Aug-21</td>\n",
              "    </tr>\n",
              "    <tr>\n",
              "      <th>4</th>\n",
              "      <td>Pardeep</td>\n",
              "      <td>Saroha</td>\n",
              "      <td>Global Data research centre</td>\n",
              "      <td>Associate Analyst</td>\n",
              "      <td>13-Aug-21</td>\n",
              "    </tr>\n",
              "  </tbody>\n",
              "</table>\n",
              "</div>"
            ],
            "text/plain": [
              "      First Name   Last Name  ...                             Position Connected On\n",
              "0  Bhuveneshwari     Rathore  ...     Human Resources Business Partner     2-Sep-21\n",
              "1      Francesco  Bigonzetti  ...                      Analyst - GAMMA    19-Aug-21\n",
              "2       Karamjit       Singh  ...  Director of Artificial Intelligence    15-Aug-21\n",
              "3           Atul       Joshi  ...                    Assistant Manager    13-Aug-21\n",
              "4        Pardeep      Saroha  ...                    Associate Analyst    13-Aug-21\n",
              "\n",
              "[5 rows x 5 columns]"
            ]
          },
          "metadata": {},
          "execution_count": 145
        }
      ]
    },
    {
      "cell_type": "code",
      "metadata": {
        "colab": {
          "base_uri": "https://localhost:8080/"
        },
        "id": "I4QcMwpmGNek",
        "outputId": "a4a0d6c7-f5e4-4271-bf4c-713332aef7ee"
      },
      "source": [
        "100 * (df2['Company'].isna().sum()/len(df1['First Name']))"
      ],
      "execution_count": 146,
      "outputs": [
        {
          "output_type": "execute_result",
          "data": {
            "text/plain": [
              "0.0"
            ]
          },
          "metadata": {},
          "execution_count": 146
        }
      ]
    },
    {
      "cell_type": "code",
      "metadata": {
        "colab": {
          "base_uri": "https://localhost:8080/"
        },
        "id": "egqquVd0GQnR",
        "outputId": "ffc0961c-612e-41c6-df26-4e41d8f4a0c5"
      },
      "source": [
        "100 * (df2['Position'].isna().sum()/len(df1['First Name']))"
      ],
      "execution_count": 147,
      "outputs": [
        {
          "output_type": "execute_result",
          "data": {
            "text/plain": [
              "0.0"
            ]
          },
          "metadata": {},
          "execution_count": 147
        }
      ]
    },
    {
      "cell_type": "code",
      "metadata": {
        "colab": {
          "base_uri": "https://localhost:8080/",
          "height": 171
        },
        "id": "4nBzA8TFGbCr",
        "outputId": "ac56e017-a73e-4abc-a4d6-912bfcefdc1e"
      },
      "source": [
        "df2.describe()"
      ],
      "execution_count": 148,
      "outputs": [
        {
          "output_type": "execute_result",
          "data": {
            "text/html": [
              "<div>\n",
              "<style scoped>\n",
              "    .dataframe tbody tr th:only-of-type {\n",
              "        vertical-align: middle;\n",
              "    }\n",
              "\n",
              "    .dataframe tbody tr th {\n",
              "        vertical-align: top;\n",
              "    }\n",
              "\n",
              "    .dataframe thead th {\n",
              "        text-align: right;\n",
              "    }\n",
              "</style>\n",
              "<table border=\"1\" class=\"dataframe\">\n",
              "  <thead>\n",
              "    <tr style=\"text-align: right;\">\n",
              "      <th></th>\n",
              "      <th>First Name</th>\n",
              "      <th>Last Name</th>\n",
              "      <th>Company</th>\n",
              "      <th>Position</th>\n",
              "      <th>Connected On</th>\n",
              "    </tr>\n",
              "  </thead>\n",
              "  <tbody>\n",
              "    <tr>\n",
              "      <th>count</th>\n",
              "      <td>1183</td>\n",
              "      <td>1183</td>\n",
              "      <td>1183</td>\n",
              "      <td>1183</td>\n",
              "      <td>1183</td>\n",
              "    </tr>\n",
              "    <tr>\n",
              "      <th>unique</th>\n",
              "      <td>807</td>\n",
              "      <td>661</td>\n",
              "      <td>781</td>\n",
              "      <td>823</td>\n",
              "      <td>392</td>\n",
              "    </tr>\n",
              "    <tr>\n",
              "      <th>top</th>\n",
              "      <td>Gaurav</td>\n",
              "      <td>Jain</td>\n",
              "      <td>EY</td>\n",
              "      <td>Assistant Manager</td>\n",
              "      <td>8-May-16</td>\n",
              "    </tr>\n",
              "    <tr>\n",
              "      <th>freq</th>\n",
              "      <td>11</td>\n",
              "      <td>53</td>\n",
              "      <td>59</td>\n",
              "      <td>34</td>\n",
              "      <td>44</td>\n",
              "    </tr>\n",
              "  </tbody>\n",
              "</table>\n",
              "</div>"
            ],
            "text/plain": [
              "       First Name Last Name Company           Position Connected On\n",
              "count        1183      1183    1183               1183         1183\n",
              "unique        807       661     781                823          392\n",
              "top        Gaurav      Jain      EY  Assistant Manager     8-May-16\n",
              "freq           11        53      59                 34           44"
            ]
          },
          "metadata": {},
          "execution_count": 148
        }
      ]
    },
    {
      "cell_type": "code",
      "metadata": {
        "colab": {
          "base_uri": "https://localhost:8080/"
        },
        "id": "zdNaphpFGc1E",
        "outputId": "6d329f07-5d54-4814-a3c0-a9ecc3581bb5"
      },
      "source": [
        "from dateutil import parser\n",
        "df2['Dates'] = pd.to_datetime(df2['Connected On'])"
      ],
      "execution_count": 149,
      "outputs": [
        {
          "output_type": "stream",
          "name": "stderr",
          "text": [
            "/usr/local/lib/python3.7/dist-packages/ipykernel_launcher.py:2: SettingWithCopyWarning: \n",
            "A value is trying to be set on a copy of a slice from a DataFrame.\n",
            "Try using .loc[row_indexer,col_indexer] = value instead\n",
            "\n",
            "See the caveats in the documentation: https://pandas.pydata.org/pandas-docs/stable/user_guide/indexing.html#returning-a-view-versus-a-copy\n",
            "  \n"
          ]
        }
      ]
    },
    {
      "cell_type": "code",
      "metadata": {
        "colab": {
          "base_uri": "https://localhost:8080/",
          "height": 202
        },
        "id": "Opo4djcQG6yD",
        "outputId": "7d3f41fe-798c-4720-d9ad-00560ca28d28"
      },
      "source": [
        "df2.head()"
      ],
      "execution_count": 150,
      "outputs": [
        {
          "output_type": "execute_result",
          "data": {
            "text/html": [
              "<div>\n",
              "<style scoped>\n",
              "    .dataframe tbody tr th:only-of-type {\n",
              "        vertical-align: middle;\n",
              "    }\n",
              "\n",
              "    .dataframe tbody tr th {\n",
              "        vertical-align: top;\n",
              "    }\n",
              "\n",
              "    .dataframe thead th {\n",
              "        text-align: right;\n",
              "    }\n",
              "</style>\n",
              "<table border=\"1\" class=\"dataframe\">\n",
              "  <thead>\n",
              "    <tr style=\"text-align: right;\">\n",
              "      <th></th>\n",
              "      <th>First Name</th>\n",
              "      <th>Last Name</th>\n",
              "      <th>Company</th>\n",
              "      <th>Position</th>\n",
              "      <th>Connected On</th>\n",
              "      <th>Dates</th>\n",
              "    </tr>\n",
              "  </thead>\n",
              "  <tbody>\n",
              "    <tr>\n",
              "      <th>0</th>\n",
              "      <td>Bhuveneshwari</td>\n",
              "      <td>Rathore</td>\n",
              "      <td>Leading Pharma MNC</td>\n",
              "      <td>Human Resources Business Partner</td>\n",
              "      <td>2-Sep-21</td>\n",
              "      <td>2021-09-02</td>\n",
              "    </tr>\n",
              "    <tr>\n",
              "      <th>1</th>\n",
              "      <td>Francesco</td>\n",
              "      <td>Bigonzetti</td>\n",
              "      <td>Boston Consulting Group (BCG)</td>\n",
              "      <td>Analyst - GAMMA</td>\n",
              "      <td>19-Aug-21</td>\n",
              "      <td>2021-08-19</td>\n",
              "    </tr>\n",
              "    <tr>\n",
              "      <th>2</th>\n",
              "      <td>Karamjit</td>\n",
              "      <td>Singh</td>\n",
              "      <td>Mastercard</td>\n",
              "      <td>Director of Artificial Intelligence</td>\n",
              "      <td>15-Aug-21</td>\n",
              "      <td>2021-08-15</td>\n",
              "    </tr>\n",
              "    <tr>\n",
              "      <th>3</th>\n",
              "      <td>Atul</td>\n",
              "      <td>Joshi</td>\n",
              "      <td>KPMG Global Services (KGS)</td>\n",
              "      <td>Assistant Manager</td>\n",
              "      <td>13-Aug-21</td>\n",
              "      <td>2021-08-13</td>\n",
              "    </tr>\n",
              "    <tr>\n",
              "      <th>4</th>\n",
              "      <td>Pardeep</td>\n",
              "      <td>Saroha</td>\n",
              "      <td>Global Data research centre</td>\n",
              "      <td>Associate Analyst</td>\n",
              "      <td>13-Aug-21</td>\n",
              "      <td>2021-08-13</td>\n",
              "    </tr>\n",
              "  </tbody>\n",
              "</table>\n",
              "</div>"
            ],
            "text/plain": [
              "      First Name   Last Name  ... Connected On      Dates\n",
              "0  Bhuveneshwari     Rathore  ...     2-Sep-21 2021-09-02\n",
              "1      Francesco  Bigonzetti  ...    19-Aug-21 2021-08-19\n",
              "2       Karamjit       Singh  ...    15-Aug-21 2021-08-15\n",
              "3           Atul       Joshi  ...    13-Aug-21 2021-08-13\n",
              "4        Pardeep      Saroha  ...    13-Aug-21 2021-08-13\n",
              "\n",
              "[5 rows x 6 columns]"
            ]
          },
          "metadata": {},
          "execution_count": 150
        }
      ]
    },
    {
      "cell_type": "code",
      "metadata": {
        "id": "N3B6zYmOHimb"
      },
      "source": [
        "df2= df2.drop(['Connected On'], axis='columns')"
      ],
      "execution_count": 151,
      "outputs": []
    },
    {
      "cell_type": "code",
      "metadata": {
        "colab": {
          "base_uri": "https://localhost:8080/",
          "height": 202
        },
        "id": "sZ0lTTmJJLEl",
        "outputId": "5ca4e85d-c439-4b2f-e80e-45cd26349dce"
      },
      "source": [
        "df2.head()"
      ],
      "execution_count": 152,
      "outputs": [
        {
          "output_type": "execute_result",
          "data": {
            "text/html": [
              "<div>\n",
              "<style scoped>\n",
              "    .dataframe tbody tr th:only-of-type {\n",
              "        vertical-align: middle;\n",
              "    }\n",
              "\n",
              "    .dataframe tbody tr th {\n",
              "        vertical-align: top;\n",
              "    }\n",
              "\n",
              "    .dataframe thead th {\n",
              "        text-align: right;\n",
              "    }\n",
              "</style>\n",
              "<table border=\"1\" class=\"dataframe\">\n",
              "  <thead>\n",
              "    <tr style=\"text-align: right;\">\n",
              "      <th></th>\n",
              "      <th>First Name</th>\n",
              "      <th>Last Name</th>\n",
              "      <th>Company</th>\n",
              "      <th>Position</th>\n",
              "      <th>Dates</th>\n",
              "    </tr>\n",
              "  </thead>\n",
              "  <tbody>\n",
              "    <tr>\n",
              "      <th>0</th>\n",
              "      <td>Bhuveneshwari</td>\n",
              "      <td>Rathore</td>\n",
              "      <td>Leading Pharma MNC</td>\n",
              "      <td>Human Resources Business Partner</td>\n",
              "      <td>2021-09-02</td>\n",
              "    </tr>\n",
              "    <tr>\n",
              "      <th>1</th>\n",
              "      <td>Francesco</td>\n",
              "      <td>Bigonzetti</td>\n",
              "      <td>Boston Consulting Group (BCG)</td>\n",
              "      <td>Analyst - GAMMA</td>\n",
              "      <td>2021-08-19</td>\n",
              "    </tr>\n",
              "    <tr>\n",
              "      <th>2</th>\n",
              "      <td>Karamjit</td>\n",
              "      <td>Singh</td>\n",
              "      <td>Mastercard</td>\n",
              "      <td>Director of Artificial Intelligence</td>\n",
              "      <td>2021-08-15</td>\n",
              "    </tr>\n",
              "    <tr>\n",
              "      <th>3</th>\n",
              "      <td>Atul</td>\n",
              "      <td>Joshi</td>\n",
              "      <td>KPMG Global Services (KGS)</td>\n",
              "      <td>Assistant Manager</td>\n",
              "      <td>2021-08-13</td>\n",
              "    </tr>\n",
              "    <tr>\n",
              "      <th>4</th>\n",
              "      <td>Pardeep</td>\n",
              "      <td>Saroha</td>\n",
              "      <td>Global Data research centre</td>\n",
              "      <td>Associate Analyst</td>\n",
              "      <td>2021-08-13</td>\n",
              "    </tr>\n",
              "  </tbody>\n",
              "</table>\n",
              "</div>"
            ],
            "text/plain": [
              "      First Name   Last Name  ...                             Position      Dates\n",
              "0  Bhuveneshwari     Rathore  ...     Human Resources Business Partner 2021-09-02\n",
              "1      Francesco  Bigonzetti  ...                      Analyst - GAMMA 2021-08-19\n",
              "2       Karamjit       Singh  ...  Director of Artificial Intelligence 2021-08-15\n",
              "3           Atul       Joshi  ...                    Assistant Manager 2021-08-13\n",
              "4        Pardeep      Saroha  ...                    Associate Analyst 2021-08-13\n",
              "\n",
              "[5 rows x 5 columns]"
            ]
          },
          "metadata": {},
          "execution_count": 152
        }
      ]
    },
    {
      "cell_type": "code",
      "metadata": {
        "id": "KTO04wZGJPbZ"
      },
      "source": [
        "df2= df2.drop(['First Name','Last Name'], axis='columns')"
      ],
      "execution_count": 153,
      "outputs": []
    },
    {
      "cell_type": "code",
      "metadata": {
        "colab": {
          "base_uri": "https://localhost:8080/",
          "height": 202
        },
        "id": "KjcZNzHKJUqL",
        "outputId": "f4a087c5-1886-4c61-93e5-db63819368d3"
      },
      "source": [
        "df2.head(5)"
      ],
      "execution_count": 154,
      "outputs": [
        {
          "output_type": "execute_result",
          "data": {
            "text/html": [
              "<div>\n",
              "<style scoped>\n",
              "    .dataframe tbody tr th:only-of-type {\n",
              "        vertical-align: middle;\n",
              "    }\n",
              "\n",
              "    .dataframe tbody tr th {\n",
              "        vertical-align: top;\n",
              "    }\n",
              "\n",
              "    .dataframe thead th {\n",
              "        text-align: right;\n",
              "    }\n",
              "</style>\n",
              "<table border=\"1\" class=\"dataframe\">\n",
              "  <thead>\n",
              "    <tr style=\"text-align: right;\">\n",
              "      <th></th>\n",
              "      <th>Company</th>\n",
              "      <th>Position</th>\n",
              "      <th>Dates</th>\n",
              "    </tr>\n",
              "  </thead>\n",
              "  <tbody>\n",
              "    <tr>\n",
              "      <th>0</th>\n",
              "      <td>Leading Pharma MNC</td>\n",
              "      <td>Human Resources Business Partner</td>\n",
              "      <td>2021-09-02</td>\n",
              "    </tr>\n",
              "    <tr>\n",
              "      <th>1</th>\n",
              "      <td>Boston Consulting Group (BCG)</td>\n",
              "      <td>Analyst - GAMMA</td>\n",
              "      <td>2021-08-19</td>\n",
              "    </tr>\n",
              "    <tr>\n",
              "      <th>2</th>\n",
              "      <td>Mastercard</td>\n",
              "      <td>Director of Artificial Intelligence</td>\n",
              "      <td>2021-08-15</td>\n",
              "    </tr>\n",
              "    <tr>\n",
              "      <th>3</th>\n",
              "      <td>KPMG Global Services (KGS)</td>\n",
              "      <td>Assistant Manager</td>\n",
              "      <td>2021-08-13</td>\n",
              "    </tr>\n",
              "    <tr>\n",
              "      <th>4</th>\n",
              "      <td>Global Data research centre</td>\n",
              "      <td>Associate Analyst</td>\n",
              "      <td>2021-08-13</td>\n",
              "    </tr>\n",
              "  </tbody>\n",
              "</table>\n",
              "</div>"
            ],
            "text/plain": [
              "                         Company  ...      Dates\n",
              "0             Leading Pharma MNC  ... 2021-09-02\n",
              "1  Boston Consulting Group (BCG)  ... 2021-08-19\n",
              "2                     Mastercard  ... 2021-08-15\n",
              "3     KPMG Global Services (KGS)  ... 2021-08-13\n",
              "4    Global Data research centre  ... 2021-08-13\n",
              "\n",
              "[5 rows x 3 columns]"
            ]
          },
          "metadata": {},
          "execution_count": 154
        }
      ]
    },
    {
      "cell_type": "code",
      "metadata": {
        "id": "bEK1ndMWJV1t"
      },
      "source": [
        "import calendar\n",
        "df2['Day of Week'] = df2['Dates'].apply(lambda time: calendar.day_name[time.weekday()])"
      ],
      "execution_count": 155,
      "outputs": []
    },
    {
      "cell_type": "code",
      "metadata": {
        "colab": {
          "base_uri": "https://localhost:8080/",
          "height": 202
        },
        "id": "k1MdMrZTKE36",
        "outputId": "ff75865c-7c84-4559-f351-5706748e242e"
      },
      "source": [
        "df2.head()"
      ],
      "execution_count": 156,
      "outputs": [
        {
          "output_type": "execute_result",
          "data": {
            "text/html": [
              "<div>\n",
              "<style scoped>\n",
              "    .dataframe tbody tr th:only-of-type {\n",
              "        vertical-align: middle;\n",
              "    }\n",
              "\n",
              "    .dataframe tbody tr th {\n",
              "        vertical-align: top;\n",
              "    }\n",
              "\n",
              "    .dataframe thead th {\n",
              "        text-align: right;\n",
              "    }\n",
              "</style>\n",
              "<table border=\"1\" class=\"dataframe\">\n",
              "  <thead>\n",
              "    <tr style=\"text-align: right;\">\n",
              "      <th></th>\n",
              "      <th>Company</th>\n",
              "      <th>Position</th>\n",
              "      <th>Dates</th>\n",
              "      <th>Day of Week</th>\n",
              "    </tr>\n",
              "  </thead>\n",
              "  <tbody>\n",
              "    <tr>\n",
              "      <th>0</th>\n",
              "      <td>Leading Pharma MNC</td>\n",
              "      <td>Human Resources Business Partner</td>\n",
              "      <td>2021-09-02</td>\n",
              "      <td>Thursday</td>\n",
              "    </tr>\n",
              "    <tr>\n",
              "      <th>1</th>\n",
              "      <td>Boston Consulting Group (BCG)</td>\n",
              "      <td>Analyst - GAMMA</td>\n",
              "      <td>2021-08-19</td>\n",
              "      <td>Thursday</td>\n",
              "    </tr>\n",
              "    <tr>\n",
              "      <th>2</th>\n",
              "      <td>Mastercard</td>\n",
              "      <td>Director of Artificial Intelligence</td>\n",
              "      <td>2021-08-15</td>\n",
              "      <td>Sunday</td>\n",
              "    </tr>\n",
              "    <tr>\n",
              "      <th>3</th>\n",
              "      <td>KPMG Global Services (KGS)</td>\n",
              "      <td>Assistant Manager</td>\n",
              "      <td>2021-08-13</td>\n",
              "      <td>Friday</td>\n",
              "    </tr>\n",
              "    <tr>\n",
              "      <th>4</th>\n",
              "      <td>Global Data research centre</td>\n",
              "      <td>Associate Analyst</td>\n",
              "      <td>2021-08-13</td>\n",
              "      <td>Friday</td>\n",
              "    </tr>\n",
              "  </tbody>\n",
              "</table>\n",
              "</div>"
            ],
            "text/plain": [
              "                         Company  ... Day of Week\n",
              "0             Leading Pharma MNC  ...    Thursday\n",
              "1  Boston Consulting Group (BCG)  ...    Thursday\n",
              "2                     Mastercard  ...      Sunday\n",
              "3     KPMG Global Services (KGS)  ...      Friday\n",
              "4    Global Data research centre  ...      Friday\n",
              "\n",
              "[5 rows x 4 columns]"
            ]
          },
          "metadata": {},
          "execution_count": 156
        }
      ]
    },
    {
      "cell_type": "code",
      "metadata": {
        "id": "oR4XukHAKGWQ"
      },
      "source": [
        "company = pd.DataFrame(df2['Company'].value_counts().head(10))"
      ],
      "execution_count": 162,
      "outputs": []
    },
    {
      "cell_type": "code",
      "metadata": {
        "colab": {
          "base_uri": "https://localhost:8080/",
          "height": 355
        },
        "id": "KGhoXuAvLbyL",
        "outputId": "b0ba1953-6121-4f77-e4d8-433bd3871c43"
      },
      "source": [
        "company"
      ],
      "execution_count": 164,
      "outputs": [
        {
          "output_type": "execute_result",
          "data": {
            "text/html": [
              "<div>\n",
              "<style scoped>\n",
              "    .dataframe tbody tr th:only-of-type {\n",
              "        vertical-align: middle;\n",
              "    }\n",
              "\n",
              "    .dataframe tbody tr th {\n",
              "        vertical-align: top;\n",
              "    }\n",
              "\n",
              "    .dataframe thead th {\n",
              "        text-align: right;\n",
              "    }\n",
              "</style>\n",
              "<table border=\"1\" class=\"dataframe\">\n",
              "  <thead>\n",
              "    <tr style=\"text-align: right;\">\n",
              "      <th></th>\n",
              "      <th>Company</th>\n",
              "    </tr>\n",
              "  </thead>\n",
              "  <tbody>\n",
              "    <tr>\n",
              "      <th>EY</th>\n",
              "      <td>59</td>\n",
              "    </tr>\n",
              "    <tr>\n",
              "      <th>Boston Consulting Group (BCG)</th>\n",
              "      <td>57</td>\n",
              "    </tr>\n",
              "    <tr>\n",
              "      <th>Deloitte India (Offices of the US)</th>\n",
              "      <td>16</td>\n",
              "    </tr>\n",
              "    <tr>\n",
              "      <th>Infosys</th>\n",
              "      <td>14</td>\n",
              "    </tr>\n",
              "    <tr>\n",
              "      <th>ZS</th>\n",
              "      <td>13</td>\n",
              "    </tr>\n",
              "    <tr>\n",
              "      <th>Accenture</th>\n",
              "      <td>12</td>\n",
              "    </tr>\n",
              "    <tr>\n",
              "      <th>KPMG</th>\n",
              "      <td>11</td>\n",
              "    </tr>\n",
              "    <tr>\n",
              "      <th>Bain &amp; Company</th>\n",
              "      <td>9</td>\n",
              "    </tr>\n",
              "    <tr>\n",
              "      <th>BCG GAMMA</th>\n",
              "      <td>8</td>\n",
              "    </tr>\n",
              "    <tr>\n",
              "      <th>JPMorgan Chase &amp; Co.</th>\n",
              "      <td>8</td>\n",
              "    </tr>\n",
              "  </tbody>\n",
              "</table>\n",
              "</div>"
            ],
            "text/plain": [
              "                                    Company\n",
              "EY                                       59\n",
              "Boston Consulting Group (BCG)            57\n",
              "Deloitte India (Offices of the US)       16\n",
              "Infosys                                  14\n",
              "ZS                                       13\n",
              "Accenture                                12\n",
              "KPMG                                     11\n",
              "Bain & Company                            9\n",
              "BCG GAMMA                                 8\n",
              "JPMorgan Chase & Co.                      8"
            ]
          },
          "metadata": {},
          "execution_count": 164
        }
      ]
    },
    {
      "cell_type": "code",
      "metadata": {
        "id": "ps_HFDKtLtnF"
      },
      "source": [
        "position = pd.DataFrame(df2['Position'].value_counts())"
      ],
      "execution_count": 201,
      "outputs": []
    },
    {
      "cell_type": "code",
      "metadata": {
        "colab": {
          "base_uri": "https://localhost:8080/"
        },
        "id": "JRbfJYk7L0C_",
        "outputId": "a5f10e48-cc40-4606-8f54-431ed9f739b4"
      },
      "source": [
        "position['Position'].sum()"
      ],
      "execution_count": 202,
      "outputs": [
        {
          "output_type": "execute_result",
          "data": {
            "text/plain": [
              "1183"
            ]
          },
          "metadata": {},
          "execution_count": 202
        }
      ]
    },
    {
      "cell_type": "code",
      "metadata": {
        "colab": {
          "base_uri": "https://localhost:8080/"
        },
        "id": "EPWaATVSWJcZ",
        "outputId": "b8ec92a4-ad9d-45ee-e9c5-bfd047680c4f"
      },
      "source": [
        "position['Position'].head(10).sum()"
      ],
      "execution_count": 203,
      "outputs": [
        {
          "output_type": "execute_result",
          "data": {
            "text/plain": [
              "184"
            ]
          },
          "metadata": {},
          "execution_count": 203
        }
      ]
    },
    {
      "cell_type": "code",
      "metadata": {
        "id": "MigFI1-LWQX5"
      },
      "source": [
        "position10 = pd.DataFrame(df2['Position'].value_counts().head(10))"
      ],
      "execution_count": 211,
      "outputs": []
    },
    {
      "cell_type": "code",
      "metadata": {
        "id": "_6lp_Z6DW2T3"
      },
      "source": [
        "position10= position10.reset_index()"
      ],
      "execution_count": 212,
      "outputs": []
    },
    {
      "cell_type": "code",
      "metadata": {
        "id": "HzmFFxbcXRuH"
      },
      "source": [
        "po = {'index': 'Others', 'Position': 999} "
      ],
      "execution_count": 213,
      "outputs": []
    },
    {
      "cell_type": "code",
      "metadata": {
        "id": "g-71wio7YdVr"
      },
      "source": [
        "position11 = position10.append(po, ignore_index = True) "
      ],
      "execution_count": 214,
      "outputs": []
    },
    {
      "cell_type": "code",
      "metadata": {
        "colab": {
          "base_uri": "https://localhost:8080/",
          "height": 385
        },
        "id": "B4DOrTE_YvUn",
        "outputId": "5d94357d-0cde-4332-a11b-7b385fa564ba"
      },
      "source": [
        "position11"
      ],
      "execution_count": 215,
      "outputs": [
        {
          "output_type": "execute_result",
          "data": {
            "text/html": [
              "<div>\n",
              "<style scoped>\n",
              "    .dataframe tbody tr th:only-of-type {\n",
              "        vertical-align: middle;\n",
              "    }\n",
              "\n",
              "    .dataframe tbody tr th {\n",
              "        vertical-align: top;\n",
              "    }\n",
              "\n",
              "    .dataframe thead th {\n",
              "        text-align: right;\n",
              "    }\n",
              "</style>\n",
              "<table border=\"1\" class=\"dataframe\">\n",
              "  <thead>\n",
              "    <tr style=\"text-align: right;\">\n",
              "      <th></th>\n",
              "      <th>index</th>\n",
              "      <th>Position</th>\n",
              "    </tr>\n",
              "  </thead>\n",
              "  <tbody>\n",
              "    <tr>\n",
              "      <th>0</th>\n",
              "      <td>Assistant Manager</td>\n",
              "      <td>34</td>\n",
              "    </tr>\n",
              "    <tr>\n",
              "      <th>1</th>\n",
              "      <td>Senior Analyst</td>\n",
              "      <td>31</td>\n",
              "    </tr>\n",
              "    <tr>\n",
              "      <th>2</th>\n",
              "      <td>Manager</td>\n",
              "      <td>19</td>\n",
              "    </tr>\n",
              "    <tr>\n",
              "      <th>3</th>\n",
              "      <td>Associate</td>\n",
              "      <td>19</td>\n",
              "    </tr>\n",
              "    <tr>\n",
              "      <th>4</th>\n",
              "      <td>Analyst</td>\n",
              "      <td>18</td>\n",
              "    </tr>\n",
              "    <tr>\n",
              "      <th>5</th>\n",
              "      <td>Consultant</td>\n",
              "      <td>14</td>\n",
              "    </tr>\n",
              "    <tr>\n",
              "      <th>6</th>\n",
              "      <td>Founder</td>\n",
              "      <td>13</td>\n",
              "    </tr>\n",
              "    <tr>\n",
              "      <th>7</th>\n",
              "      <td>Senior Consultant</td>\n",
              "      <td>13</td>\n",
              "    </tr>\n",
              "    <tr>\n",
              "      <th>8</th>\n",
              "      <td>Associate Consultant</td>\n",
              "      <td>12</td>\n",
              "    </tr>\n",
              "    <tr>\n",
              "      <th>9</th>\n",
              "      <td>Director</td>\n",
              "      <td>11</td>\n",
              "    </tr>\n",
              "    <tr>\n",
              "      <th>10</th>\n",
              "      <td>Others</td>\n",
              "      <td>999</td>\n",
              "    </tr>\n",
              "  </tbody>\n",
              "</table>\n",
              "</div>"
            ],
            "text/plain": [
              "                   index  Position\n",
              "0      Assistant Manager        34\n",
              "1         Senior Analyst        31\n",
              "2                Manager        19\n",
              "3              Associate        19\n",
              "4                Analyst        18\n",
              "5             Consultant        14\n",
              "6                Founder        13\n",
              "7      Senior Consultant        13\n",
              "8   Associate Consultant        12\n",
              "9               Director        11\n",
              "10                Others       999"
            ]
          },
          "metadata": {},
          "execution_count": 215
        }
      ]
    },
    {
      "cell_type": "code",
      "metadata": {
        "colab": {
          "base_uri": "https://localhost:8080/",
          "height": 263
        },
        "id": "qF-uBUBBL1GJ",
        "outputId": "a2d2cdbc-d786-4694-cbf8-12e3ddab0e38"
      },
      "source": [
        "day = pd.DataFrame(df2['Day of Week'].value_counts())\n",
        "day"
      ],
      "execution_count": 216,
      "outputs": [
        {
          "output_type": "execute_result",
          "data": {
            "text/html": [
              "<div>\n",
              "<style scoped>\n",
              "    .dataframe tbody tr th:only-of-type {\n",
              "        vertical-align: middle;\n",
              "    }\n",
              "\n",
              "    .dataframe tbody tr th {\n",
              "        vertical-align: top;\n",
              "    }\n",
              "\n",
              "    .dataframe thead th {\n",
              "        text-align: right;\n",
              "    }\n",
              "</style>\n",
              "<table border=\"1\" class=\"dataframe\">\n",
              "  <thead>\n",
              "    <tr style=\"text-align: right;\">\n",
              "      <th></th>\n",
              "      <th>Day of Week</th>\n",
              "    </tr>\n",
              "  </thead>\n",
              "  <tbody>\n",
              "    <tr>\n",
              "      <th>Monday</th>\n",
              "      <td>226</td>\n",
              "    </tr>\n",
              "    <tr>\n",
              "      <th>Wednesday</th>\n",
              "      <td>180</td>\n",
              "    </tr>\n",
              "    <tr>\n",
              "      <th>Sunday</th>\n",
              "      <td>168</td>\n",
              "    </tr>\n",
              "    <tr>\n",
              "      <th>Tuesday</th>\n",
              "      <td>161</td>\n",
              "    </tr>\n",
              "    <tr>\n",
              "      <th>Thursday</th>\n",
              "      <td>155</td>\n",
              "    </tr>\n",
              "    <tr>\n",
              "      <th>Friday</th>\n",
              "      <td>150</td>\n",
              "    </tr>\n",
              "    <tr>\n",
              "      <th>Saturday</th>\n",
              "      <td>143</td>\n",
              "    </tr>\n",
              "  </tbody>\n",
              "</table>\n",
              "</div>"
            ],
            "text/plain": [
              "           Day of Week\n",
              "Monday             226\n",
              "Wednesday          180\n",
              "Sunday             168\n",
              "Tuesday            161\n",
              "Thursday           155\n",
              "Friday             150\n",
              "Saturday           143"
            ]
          },
          "metadata": {},
          "execution_count": 216
        }
      ]
    },
    {
      "cell_type": "code",
      "metadata": {
        "colab": {
          "base_uri": "https://localhost:8080/",
          "height": 414
        },
        "id": "EX8d78xPMCG0",
        "outputId": "f7c80068-0949-4867-9d25-c6f61dc43a55"
      },
      "source": [
        "dt = pd.DataFrame(df2['Dates'].value_counts())\n",
        "dt"
      ],
      "execution_count": 217,
      "outputs": [
        {
          "output_type": "execute_result",
          "data": {
            "text/html": [
              "<div>\n",
              "<style scoped>\n",
              "    .dataframe tbody tr th:only-of-type {\n",
              "        vertical-align: middle;\n",
              "    }\n",
              "\n",
              "    .dataframe tbody tr th {\n",
              "        vertical-align: top;\n",
              "    }\n",
              "\n",
              "    .dataframe thead th {\n",
              "        text-align: right;\n",
              "    }\n",
              "</style>\n",
              "<table border=\"1\" class=\"dataframe\">\n",
              "  <thead>\n",
              "    <tr style=\"text-align: right;\">\n",
              "      <th></th>\n",
              "      <th>Dates</th>\n",
              "    </tr>\n",
              "  </thead>\n",
              "  <tbody>\n",
              "    <tr>\n",
              "      <th>2016-05-08</th>\n",
              "      <td>44</td>\n",
              "    </tr>\n",
              "    <tr>\n",
              "      <th>2021-06-10</th>\n",
              "      <td>36</td>\n",
              "    </tr>\n",
              "    <tr>\n",
              "      <th>2020-08-31</th>\n",
              "      <td>21</td>\n",
              "    </tr>\n",
              "    <tr>\n",
              "      <th>2020-01-07</th>\n",
              "      <td>18</td>\n",
              "    </tr>\n",
              "    <tr>\n",
              "      <th>2017-12-24</th>\n",
              "      <td>18</td>\n",
              "    </tr>\n",
              "    <tr>\n",
              "      <th>...</th>\n",
              "      <td>...</td>\n",
              "    </tr>\n",
              "    <tr>\n",
              "      <th>2019-03-15</th>\n",
              "      <td>1</td>\n",
              "    </tr>\n",
              "    <tr>\n",
              "      <th>2017-06-22</th>\n",
              "      <td>1</td>\n",
              "    </tr>\n",
              "    <tr>\n",
              "      <th>2014-01-18</th>\n",
              "      <td>1</td>\n",
              "    </tr>\n",
              "    <tr>\n",
              "      <th>2020-02-05</th>\n",
              "      <td>1</td>\n",
              "    </tr>\n",
              "    <tr>\n",
              "      <th>2021-09-02</th>\n",
              "      <td>1</td>\n",
              "    </tr>\n",
              "  </tbody>\n",
              "</table>\n",
              "<p>392 rows × 1 columns</p>\n",
              "</div>"
            ],
            "text/plain": [
              "            Dates\n",
              "2016-05-08     44\n",
              "2021-06-10     36\n",
              "2020-08-31     21\n",
              "2020-01-07     18\n",
              "2017-12-24     18\n",
              "...           ...\n",
              "2019-03-15      1\n",
              "2017-06-22      1\n",
              "2014-01-18      1\n",
              "2020-02-05      1\n",
              "2021-09-02      1\n",
              "\n",
              "[392 rows x 1 columns]"
            ]
          },
          "metadata": {},
          "execution_count": 217
        }
      ]
    },
    {
      "cell_type": "code",
      "metadata": {
        "id": "cONwZnHlMWJy"
      },
      "source": [
        "dt = dt.sort_values(by=['Dates'],ascending=False)"
      ],
      "execution_count": 218,
      "outputs": []
    },
    {
      "cell_type": "code",
      "metadata": {
        "colab": {
          "base_uri": "https://localhost:8080/",
          "height": 414
        },
        "id": "rDV6ZWiuMhyL",
        "outputId": "2a8e9f0a-53e6-42e3-d4a4-55598d1e545d"
      },
      "source": [
        "dt"
      ],
      "execution_count": 219,
      "outputs": [
        {
          "output_type": "execute_result",
          "data": {
            "text/html": [
              "<div>\n",
              "<style scoped>\n",
              "    .dataframe tbody tr th:only-of-type {\n",
              "        vertical-align: middle;\n",
              "    }\n",
              "\n",
              "    .dataframe tbody tr th {\n",
              "        vertical-align: top;\n",
              "    }\n",
              "\n",
              "    .dataframe thead th {\n",
              "        text-align: right;\n",
              "    }\n",
              "</style>\n",
              "<table border=\"1\" class=\"dataframe\">\n",
              "  <thead>\n",
              "    <tr style=\"text-align: right;\">\n",
              "      <th></th>\n",
              "      <th>Dates</th>\n",
              "    </tr>\n",
              "  </thead>\n",
              "  <tbody>\n",
              "    <tr>\n",
              "      <th>2016-05-08</th>\n",
              "      <td>44</td>\n",
              "    </tr>\n",
              "    <tr>\n",
              "      <th>2021-06-10</th>\n",
              "      <td>36</td>\n",
              "    </tr>\n",
              "    <tr>\n",
              "      <th>2020-08-31</th>\n",
              "      <td>21</td>\n",
              "    </tr>\n",
              "    <tr>\n",
              "      <th>2020-01-07</th>\n",
              "      <td>18</td>\n",
              "    </tr>\n",
              "    <tr>\n",
              "      <th>2017-12-24</th>\n",
              "      <td>18</td>\n",
              "    </tr>\n",
              "    <tr>\n",
              "      <th>...</th>\n",
              "      <td>...</td>\n",
              "    </tr>\n",
              "    <tr>\n",
              "      <th>2014-06-29</th>\n",
              "      <td>1</td>\n",
              "    </tr>\n",
              "    <tr>\n",
              "      <th>2019-12-25</th>\n",
              "      <td>1</td>\n",
              "    </tr>\n",
              "    <tr>\n",
              "      <th>2020-03-12</th>\n",
              "      <td>1</td>\n",
              "    </tr>\n",
              "    <tr>\n",
              "      <th>2019-04-24</th>\n",
              "      <td>1</td>\n",
              "    </tr>\n",
              "    <tr>\n",
              "      <th>2021-09-02</th>\n",
              "      <td>1</td>\n",
              "    </tr>\n",
              "  </tbody>\n",
              "</table>\n",
              "<p>392 rows × 1 columns</p>\n",
              "</div>"
            ],
            "text/plain": [
              "            Dates\n",
              "2016-05-08     44\n",
              "2021-06-10     36\n",
              "2020-08-31     21\n",
              "2020-01-07     18\n",
              "2017-12-24     18\n",
              "...           ...\n",
              "2014-06-29      1\n",
              "2019-12-25      1\n",
              "2020-03-12      1\n",
              "2019-04-24      1\n",
              "2021-09-02      1\n",
              "\n",
              "[392 rows x 1 columns]"
            ]
          },
          "metadata": {},
          "execution_count": 219
        }
      ]
    },
    {
      "cell_type": "code",
      "metadata": {
        "id": "XVjGS3isMiru"
      },
      "source": [
        "dt.to_excel(\"dt.xlsx\",\n",
        "             sheet_name='Dates') "
      ],
      "execution_count": 220,
      "outputs": []
    },
    {
      "cell_type": "code",
      "metadata": {
        "id": "cyChmsrTNSHD"
      },
      "source": [
        "position11.to_excel(\"position11.xlsx\",\n",
        "             sheet_name='Position11') "
      ],
      "execution_count": 221,
      "outputs": []
    },
    {
      "cell_type": "code",
      "metadata": {
        "id": "USpzC86tNaZq"
      },
      "source": [
        "company.to_excel(\"company.xlsx\",\n",
        "             sheet_name='company') "
      ],
      "execution_count": 222,
      "outputs": []
    },
    {
      "cell_type": "code",
      "metadata": {
        "id": "wJPCDZ5gNfGC"
      },
      "source": [
        "day.to_excel(\"day.xlsx\",\n",
        "             sheet_name='Day') "
      ],
      "execution_count": 223,
      "outputs": []
    },
    {
      "cell_type": "code",
      "metadata": {
        "id": "OzRSOajUNiif"
      },
      "source": [
        "import seaborn as sns"
      ],
      "execution_count": null,
      "outputs": []
    },
    {
      "cell_type": "code",
      "metadata": {
        "id": "6RlBiy3WZk5g"
      },
      "source": [
        "position11.to_excel(\"position11.xlsx\",\n",
        "             sheet_name='Position11') "
      ],
      "execution_count": 224,
      "outputs": []
    },
    {
      "cell_type": "code",
      "metadata": {
        "colab": {
          "base_uri": "https://localhost:8080/",
          "height": 282
        },
        "id": "YBVvpt_8O3g5",
        "outputId": "8593eea6-de58-433c-a8a0-46b9c2527dff"
      },
      "source": [
        "sns.lineplot(x=dt.index, y=dt['Dates'],\n",
        "             data=dt)"
      ],
      "execution_count": 225,
      "outputs": [
        {
          "output_type": "execute_result",
          "data": {
            "text/plain": [
              "<matplotlib.axes._subplots.AxesSubplot at 0x7f710ab01350>"
            ]
          },
          "metadata": {},
          "execution_count": 225
        },
        {
          "output_type": "display_data",
          "data": {
            "image/png": "[encoded data removed]",
            "text/plain": [
              "<Figure size 432x288 with 1 Axes>"
            ]
          },
          "metadata": {
            "needs_background": "light"
          }
        }
      ]
    },
    {
      "cell_type": "code",
      "metadata": {
        "id": "qksaHnKMZl_T"
      },
      "source": [
        ""
      ],
      "execution_count": null,
      "outputs": []
    }
  ]
}